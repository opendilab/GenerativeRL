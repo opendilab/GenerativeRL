{
 "cells": [
  {
   "cell_type": "code",
   "execution_count": 18,
   "metadata": {},
   "outputs": [],
   "source": [
    "import os\n",
    "from base64 import b64encode\n",
    "import pickle\n",
    "import numpy as np\n",
    "import torch\n",
    "import torch.nn as nn\n",
    "from easydict import EasyDict\n",
    "from IPython.display import HTML\n",
    "from rich.progress import track\n",
    "from sklearn.datasets import make_swiss_roll\n",
    "import matplotlib\n",
    "import matplotlib.pyplot as plt\n",
    "from matplotlib import animation\n",
    "matplotlib.use(\"Agg\")\n",
    "\n",
    "from grl.generative_models.diffusion_model import DiffusionModel\n",
    "from grl.generative_models.conditional_flow_model import IndependentConditionalFlowModel, OptimalTransportConditionalFlowModel\n",
    "from grl.generative_models.metric import compute_likelihood\n",
    "from grl.utils import set_seed\n",
    "from grl.utils.log import log"
   ]
  },
  {
   "cell_type": "code",
   "execution_count": null,
   "metadata": {},
   "outputs": [],
   "source": [
    "from sklearn.utils import shuffle as util_shuffle\n"
   ]
  },
  {
   "cell_type": "code",
   "execution_count": 19,
   "metadata": {},
   "outputs": [],
   "source": [
    "%matplotlib inline\n",
    "\n",
    "\n",
    "def plot2d(data):\n",
    "    plt.scatter(data[:, 0], data[:, 1])\n",
    "    plt.show()\n",
    "\n",
    "\n",
    "def show_video(video_path, video_width=600):\n",
    "\n",
    "    video_file = open(video_path, \"r+b\").read()\n",
    "\n",
    "    video_url = f\"data:video/mp4;base64,{b64encode(video_file).decode()}\"\n",
    "    return HTML(\n",
    "        f\"\"\"<video width={video_width} controls><source src=\"{video_url}\"></video>\"\"\"\n",
    "    )\n",
    "\n",
    "\n",
    "def render_video(\n",
    "    data_list, video_save_path, iteration, fps=100, dpi=100\n",
    "):\n",
    "    if not os.path.exists(video_save_path):\n",
    "        os.makedirs(video_save_path)\n",
    "    fig = plt.figure(figsize=(6, 6))\n",
    "    plt.xlim([-5, 5])\n",
    "    plt.ylim([-5, 5])\n",
    "    ims = []\n",
    "    colors = np.linspace(0, 1, len(data_list))\n",
    "\n",
    "    for i, data in enumerate(data_list):\n",
    "        im = plt.scatter(data[:, 0], data[:, 1], s=1)\n",
    "        title = plt.text(0.5, 1.05, f't={i/len(data_list):.2f}', ha='center', va='bottom', transform=plt.gca().transAxes)\n",
    "        ims.append([im, title])\n",
    "\n",
    "    ani = animation.ArtistAnimation(fig, ims, interval=0.1, blit=True)\n",
    "    ani.save(os.path.join(video_save_path, f'iteration_{iteration}.mp4'), fps=fps, dpi=dpi)\n",
    "    # clean up\n",
    "    plt.close(fig)\n",
    "    plt.clf()\n",
    "\n",
    "def load_and_plot_results(file_path):\n",
    "    try:\n",
    "        with open(file_path, \"rb\") as f:\n",
    "            results = pickle.load(f)\n",
    "    except Exception as e:\n",
    "        print(f\"Failed to load the file: {e}\")\n",
    "        return\n",
    "\n",
    "    plt.figure(figsize=(10, 6))\n",
    "    x = results[\"iterations\"]\n",
    "    if \"gradients\" in results and results[\"gradients\"]:\n",
    "        plt.plot(x, results[\"gradients\"], label=\"Gradients\")\n",
    "    if \"losses\" in results and results[\"losses\"]:\n",
    "        plt.plot(x, results[\"losses\"], label=\"Losses\")\n",
    "    plt.xlabel(\"Iteration\")\n",
    "    plt.ylabel(\"Log(Value)\")\n",
    "    plt.yscale(\"log\")\n",
    "    # Specify y-ticks\n",
    "    y_ticks = [1e-1, 5e-1, 1, 5, 10]\n",
    "    plt.yticks(y_ticks, [f\"{y:.0e}\" for y in y_ticks])\n",
    "    plt.title(\"Training Metrics Over Iterations\")\n",
    "    plt.legend()\n",
    "    plt.grid(True)\n",
    "    plt.show()"
   ]
  },
  {
   "cell_type": "code",
   "execution_count": 20,
   "metadata": {},
   "outputs": [],
   "source": [
    "x_size = 2\n",
    "device = torch.device(\"cuda\") if torch.cuda.is_available() else torch.device(\"cpu\")\n",
    "t_embedding_dim = 32\n",
    "\n",
    "diffusion_model_config = EasyDict(\n",
    "    dict(\n",
    "        device=device,\n",
    "        project=\"linear_vp_sde_noise_function_score_matching\",\n",
    "        diffusion_model=dict(\n",
    "            device=device,\n",
    "            x_size=x_size,\n",
    "            alpha=1.0,\n",
    "            solver=dict(\n",
    "                type=\"ODESolver\",\n",
    "                args=dict(\n",
    "                    library=\"torchdiffeq_adjoint\",\n",
    "                ),\n",
    "            ),\n",
    "            path=dict(\n",
    "                type=\"linear_vp_sde\",\n",
    "                beta_0=0.1,\n",
    "                beta_1=20.0,\n",
    "            ),\n",
    "            model=dict(\n",
    "                type=\"noise_function\",\n",
    "                args=dict(\n",
    "                    t_encoder=dict(\n",
    "                        type=\"GaussianFourierProjectionTimeEncoder\",\n",
    "                        args=dict(\n",
    "                            embed_dim=t_embedding_dim,\n",
    "                            scale=30.0,\n",
    "                        ),\n",
    "                    ),\n",
    "                    backbone=dict(\n",
    "                        type=\"TemporalSpatialResidualNet\",\n",
    "                        args=dict(\n",
    "                            hidden_sizes=[128, 64, 32],\n",
    "                            output_dim=x_size,\n",
    "                            t_dim=t_embedding_dim,\n",
    "                        ),\n",
    "                    ),\n",
    "                ),\n",
    "            ),\n",
    "        ),\n",
    "        parameter=dict(\n",
    "            training_loss_type=\"score_matching\",\n",
    "            lr=5e-4,\n",
    "            data_num=100000,\n",
    "            # weight_decay=1e-4,\n",
    "            iterations=100000,\n",
    "            batch_size=4096,\n",
    "            # clip_grad_norm=1.0,\n",
    "            eval_freq=1000,\n",
    "            video_save_path=\"./video-diffusion\",\n",
    "            device=device,\n",
    "        ),\n",
    "    )\n",
    ")\n",
    "\n",
    "flow_model_config = EasyDict(\n",
    "    dict(\n",
    "        device=device,\n",
    "        project=\"icfm_velocity_function_flow_matching\",\n",
    "        flow_model=dict(\n",
    "            device=device,\n",
    "            x_size=x_size,\n",
    "            alpha=1.0,\n",
    "            solver=dict(\n",
    "                type=\"ODESolver\",\n",
    "                args=dict(\n",
    "                    library=\"torchdiffeq_adjoint\",\n",
    "                ),\n",
    "            ),\n",
    "            path=dict(\n",
    "                sigma=0.1,\n",
    "            ),\n",
    "            model=dict(\n",
    "                type=\"velocity_function\",\n",
    "                args=dict(\n",
    "                    t_encoder=dict(\n",
    "                        type=\"GaussianFourierProjectionTimeEncoder\",\n",
    "                        args=dict(\n",
    "                            embed_dim=t_embedding_dim,\n",
    "                            scale=30.0,\n",
    "                        ),\n",
    "                    ),\n",
    "                    backbone=dict(\n",
    "                        type=\"TemporalSpatialResidualNet\",\n",
    "                        args=dict(\n",
    "                            hidden_sizes=[128, 64, 32],\n",
    "                            output_dim=x_size,\n",
    "                            t_dim=t_embedding_dim,\n",
    "                        ),\n",
    "                    ),\n",
    "                ),\n",
    "            ),\n",
    "        ),\n",
    "        parameter=dict(\n",
    "            training_loss_type=\"flow_matching\",\n",
    "            lr=5e-4,\n",
    "            data_num=100000,\n",
    "            # weight_decay=1e-4,\n",
    "            iterations=100000,\n",
    "            batch_size=4096,\n",
    "            # clip_grad_norm=1.0,\n",
    "            eval_freq=1000,\n",
    "            video_save_path=\"./video-flow\",\n",
    "            device=device,\n",
    "        ),\n",
    "    )\n",
    ")\n",
    "\n"
   ]
  },
  {
   "cell_type": "code",
   "execution_count": 44,
   "metadata": {},
   "outputs": [
    {
     "data": {
      "image/png": "[encoded data removed]",
      "text/plain": [
       "<Figure size 640x480 with 1 Axes>"
      ]
     },
     "metadata": {},
     "output_type": "display_data"
    }
   ],
   "source": [
    "# from sklearn.utils import shuffle as util_shuffle\n",
    "np.random.seed(192)\n",
    "def make_circles(batch_size: int=1000, rng=None) -> np.ndarray:\n",
    "    n_samples4 = n_samples3 = n_samples2 = batch_size // 4\n",
    "    n_samples1 = batch_size - n_samples4 - n_samples3 - n_samples2\n",
    "\n",
    "    # so as not to have the first point = last point, we set endpoint=False\n",
    "    linspace4 = np.linspace(0, 2 * np.pi, n_samples4, endpoint=False)\n",
    "    linspace3 = np.linspace(0, 2 * np.pi, n_samples3, endpoint=False)\n",
    "    linspace2 = np.linspace(0, 2 * np.pi, n_samples2, endpoint=False)\n",
    "    linspace1 = np.linspace(0, 2 * np.pi, n_samples1, endpoint=False)\n",
    "\n",
    "    circ4_x = np.cos(linspace4)\n",
    "    circ4_y = np.sin(linspace4)\n",
    "    circ3_x = np.cos(linspace4) * 0.75\n",
    "    circ3_y = np.sin(linspace3) * 0.75\n",
    "    circ2_x = np.cos(linspace2) * 0.5\n",
    "    circ2_y = np.sin(linspace2) * 0.5\n",
    "    circ1_x = np.cos(linspace1) * 0.25\n",
    "    circ1_y = np.sin(linspace1) * 0.25\n",
    "\n",
    "    X = np.vstack([\n",
    "        np.hstack([circ4_x, circ3_x, circ2_x, circ1_x]),\n",
    "        np.hstack([circ4_y, circ3_y, circ2_y, circ1_y])\n",
    "    ]).T * 3.0\n",
    "    # X = util_shuffle(X, random_state=rng)\n",
    "\n",
    "    # Add noise\n",
    "    # X = X + rng.normal(scale=0.08, size=X.shape)\n",
    "\n",
    "    return X.astype(\"float32\")\n",
    "\n",
    "\n",
    "def transform(data: np.ndarray) -> np.ndarray:\n",
    "    assert data.shape[1] == 2\n",
    "    data[:, 0] = data[:, 0] / np.max(np.abs(data[:, 0]))\n",
    "    data[:, 1] = data[:, 1] / np.max(np.abs(data[:, 1]))\n",
    "    # data[:, 2] = data[:, 2] / np.max(np.abs(data[:, 2]))\n",
    "    data = (data - data.min()) / (data.max()\n",
    "                                  - data.min()) # Towards [0, 1]\n",
    "    data = data * 4 - 2 # [-1, 1]\n",
    "    return data\n",
    "# get data from sklearn\n",
    "data = make_circles(100000)\n",
    "data = transform(data)\n",
    "data = data.astype(np.float32)\n",
    "plot2d(data)\n",
    "def get_train_data(dataloader):\n",
    "    while True:\n",
    "        yield from dataloader"
   ]
  },
  {
   "cell_type": "code",
   "execution_count": 22,
   "metadata": {},
   "outputs": [],
   "source": [
    "def task_run_flow_model(config, data, flow_model_type=IndependentConditionalFlowModel):\n",
    "    seed_value = set_seed()\n",
    "\n",
    "    flow_model = flow_model_type(config=config.flow_model).to(config.flow_model.device)\n",
    "    flow_model = torch.compile(flow_model)\n",
    "\n",
    "    data_loader = torch.utils.data.DataLoader(data, batch_size=config.parameter.batch_size, shuffle=True)\n",
    "    data_generator = get_train_data(data_loader)\n",
    "\n",
    "    optimizer = torch.optim.Adam(\n",
    "        flow_model.parameters(),\n",
    "        lr=config.parameter.lr,\n",
    "        # weight_decay=config.parameter.weight_decay,\n",
    "    )\n",
    "    for iteration in track(range(config.parameter.iterations), description=config.project):\n",
    "\n",
    "        batch_data = next(data_generator).to(config.device)\n",
    "        flow_model.train()\n",
    "        if config.parameter.training_loss_type == \"flow_matching\":\n",
    "            x0 = flow_model.gaussian_generator(batch_data.shape[0]).to(config.device)\n",
    "            loss = flow_model.flow_matching_loss(x0=x0, x1=batch_data)\n",
    "        else:\n",
    "            raise NotImplementedError(\n",
    "                f\"Unknown loss type {config.parameter.training_loss_type}, we need flow matching.\"\n",
    "            )\n",
    "        optimizer.zero_grad()\n",
    "        loss.backward()\n",
    "        optimizer.step()\n",
    "\n",
    "    return flow_model\n",
    "\n",
    "def task_run_diffusion_model(config, data):\n",
    "    seed_value = set_seed()\n",
    "\n",
    "    diffusion_model = DiffusionModel(config=config.diffusion_model).to(config.diffusion_model.device)\n",
    "    diffusion_model = torch.compile(diffusion_model)\n",
    "\n",
    "    data_loader = torch.utils.data.DataLoader(data, batch_size=config.parameter.batch_size, shuffle=True)\n",
    "    data_generator = get_train_data(data_loader)\n",
    "\n",
    "    optimizer = torch.optim.Adam(\n",
    "        diffusion_model.parameters(),\n",
    "        lr=config.parameter.lr,\n",
    "        # weight_decay=config.parameter.weight_decay,\n",
    "    )\n",
    "    for iteration in track(range(config.parameter.iterations), description=config.project):\n",
    "\n",
    "        batch_data = next(data_generator).to(config.device)\n",
    "        diffusion_model.train()\n",
    "        if config.parameter.training_loss_type == \"flow_matching\":\n",
    "            loss = diffusion_model.flow_matching_loss(batch_data)\n",
    "        elif config.parameter.training_loss_type == \"score_matching_maximum_likelihhood\":\n",
    "            loss = diffusion_model.score_matching_loss(batch_data)\n",
    "        elif config.parameter.training_loss_type == \"score_matching\":\n",
    "            loss = diffusion_model.score_matching_loss(batch_data, weighting_scheme=\"vanilla\")\n",
    "        else:\n",
    "            raise NotImplementedError(\n",
    "                f\"Unknown loss type {config.parameter.training_loss_type}, we need flow matching or score matching.\"\n",
    "            )\n",
    "        optimizer.zero_grad()\n",
    "        loss.backward()\n",
    "        optimizer.step()\n",
    "\n",
    "    return diffusion_model"
   ]
  },
  {
   "cell_type": "code",
   "execution_count": 23,
   "metadata": {},
   "outputs": [
    {
     "data": {
      "application/vnd.jupyter.widget-view+json": {
       "model_id": "45717a201101413eb7717ce540e9fa21",
       "version_major": 2,
       "version_minor": 0
      },
      "text/plain": [
       "Output()"
      ]
     },
     "metadata": {},
     "output_type": "display_data"
    },
    {
     "data": {
      "text/html": [
       "<pre style=\"white-space:pre;overflow-x:auto;line-height:normal;font-family:Menlo,'DejaVu Sans Mono',consolas,'Courier New',monospace\"></pre>\n"
      ],
      "text/plain": []
     },
     "metadata": {},
     "output_type": "display_data"
    },
    {
     "data": {
      "text/html": [
       "<pre style=\"white-space:pre;overflow-x:auto;line-height:normal;font-family:Menlo,'DejaVu Sans Mono',consolas,'Courier New',monospace\">\n",
       "</pre>\n"
      ],
      "text/plain": [
       "\n"
      ]
     },
     "metadata": {},
     "output_type": "display_data"
    },
    {
     "data": {
      "application/vnd.jupyter.widget-view+json": {
       "model_id": "b434ca73e5ec4cb797efa1054c61aa7f",
       "version_major": 2,
       "version_minor": 0
      },
      "text/plain": [
       "Output()"
      ]
     },
     "metadata": {},
     "output_type": "display_data"
    },
    {
     "data": {
      "text/html": [
       "<pre style=\"white-space:pre;overflow-x:auto;line-height:normal;font-family:Menlo,'DejaVu Sans Mono',consolas,'Courier New',monospace\"></pre>\n"
      ],
      "text/plain": []
     },
     "metadata": {},
     "output_type": "display_data"
    },
    {
     "data": {
      "text/html": [
       "<pre style=\"white-space:pre;overflow-x:auto;line-height:normal;font-family:Menlo,'DejaVu Sans Mono',consolas,'Courier New',monospace\">\n",
       "</pre>\n"
      ],
      "text/plain": [
       "\n"
      ]
     },
     "metadata": {},
     "output_type": "display_data"
    }
   ],
   "source": [
    "diffusion_model = task_run_diffusion_model(diffusion_model_config, data)\n",
    "flow_model = task_run_flow_model(flow_model_config, data, IndependentConditionalFlowModel)"
   ]
  },
  {
   "cell_type": "code",
   "execution_count": 24,
   "metadata": {},
   "outputs": [
    {
     "name": "stdout",
     "output_type": "stream",
     "text": [
      "diffusion_model: shape of x: torch.Size([1, 2])\n",
      "diffusion_model: likelihood: tensor([0.1089], device='cuda:0')\n",
      "flow_model: shape of x: torch.Size([1, 2])\n",
      "flow_model: likelihood: tensor([0.0774], device='cuda:0')\n"
     ]
    }
   ],
   "source": [
    "t_span = torch.linspace(0.0, 1.0, 1000)\n",
    "# diffusion model\n",
    "\n",
    "x = diffusion_model.sample(t_span=t_span, batch_size=1)\n",
    "print(f\"diffusion_model: shape of x: {x.shape}\")\n",
    "with torch.no_grad():\n",
    "    logp = compute_likelihood(diffusion_model, x)\n",
    "    print(f\"diffusion_model: likelihood: {torch.exp(logp)}\")\n",
    "\n",
    "# flow model\n",
    "x = flow_model.sample(t_span=t_span, batch_size=1)\n",
    "print(f\"flow_model: shape of x: {x.shape}\")\n",
    "with torch.no_grad():\n",
    "    logp = compute_likelihood(flow_model, x)\n",
    "    print(f\"flow_model: likelihood: {torch.exp(logp)}\")"
   ]
  },
  {
   "cell_type": "code",
   "execution_count": 25,
   "metadata": {},
   "outputs": [
    {
     "name": "stdout",
     "output_type": "stream",
     "text": [
      "diffusion_model: shape of x: torch.Size([1, 2])\n",
      "diffusion_model: likelihood: tensor([0.1333], device='cuda:0', grad_fn=<ExpBackward0>)\n",
      "flow_model: shape of x: torch.Size([1, 2])\n",
      "flow_model: likelihood: tensor([0.1217], device='cuda:0', grad_fn=<ExpBackward0>)\n"
     ]
    }
   ],
   "source": [
    "# diffusion model\n",
    "\n",
    "x = diffusion_model.sample(t_span=t_span, batch_size=1)\n",
    "print(f\"diffusion_model: shape of x: {x.shape}\")\n",
    "logp = compute_likelihood(diffusion_model, x)\n",
    "print(f\"diffusion_model: likelihood: {torch.exp(logp)}\")\n",
    "\n",
    "# test if the tensor has grad_fn\n",
    "assert logp.grad_fn is not None\n",
    "\n",
    "# flow model\n",
    "\n",
    "x = flow_model.sample(t_span=t_span, batch_size=1)\n",
    "print(f\"flow_model: shape of x: {x.shape}\")\n",
    "logp = compute_likelihood(flow_model, x)\n",
    "print(f\"flow_model: likelihood: {torch.exp(logp)}\")\n",
    "\n",
    "# test if the tensor has grad_fn\n",
    "assert logp.grad_fn is not None"
   ]
  },
  {
   "cell_type": "code",
   "execution_count": 26,
   "metadata": {},
   "outputs": [
    {
     "name": "stdout",
     "output_type": "stream",
     "text": [
      "diffusion_model: shape of x: torch.Size([1, 2])\n",
      "diffusion_model: likelihood: tensor([0.1349], device='cuda:0', grad_fn=<ExpBackward0>)\n",
      "flow_model: shape of x: torch.Size([1, 2])\n",
      "flow_model: likelihood: tensor([0.0012], device='cuda:0', grad_fn=<ExpBackward0>)\n"
     ]
    }
   ],
   "source": [
    "# diffusion model\n",
    "\n",
    "x = diffusion_model.sample(t_span=t_span, batch_size=1)\n",
    "print(f\"diffusion_model: shape of x: {x.shape}\")\n",
    "logp = compute_likelihood(diffusion_model, x, using_Hutchinson_trace_estimator=True)\n",
    "print(f\"diffusion_model: likelihood: {torch.exp(logp)}\")\n",
    "\n",
    "# test if the tensor has grad_fn\n",
    "assert logp.grad_fn is not None\n",
    "\n",
    "# flow model\n",
    "\n",
    "x = flow_model.sample(t_span=t_span, batch_size=1)\n",
    "print(f\"flow_model: shape of x: {x.shape}\")\n",
    "logp = compute_likelihood(diffusion_model, x, using_Hutchinson_trace_estimator=True)\n",
    "print(f\"flow_model: likelihood: {torch.exp(logp)}\")\n",
    "\n",
    "# test if the tensor has grad_fn\n",
    "assert logp.grad_fn is not None\n"
   ]
  },
  {
   "cell_type": "code",
   "execution_count": 27,
   "metadata": {},
   "outputs": [
    {
     "data": {
      "application/vnd.jupyter.widget-view+json": {
       "model_id": "d02c87b5b8ee4226b52b091ba4114b4c",
       "version_major": 2,
       "version_minor": 0
      },
      "text/plain": [
       "Output()"
      ]
     },
     "metadata": {},
     "output_type": "display_data"
    },
    {
     "data": {
      "text/html": [
       "<pre style=\"white-space:pre;overflow-x:auto;line-height:normal;font-family:Menlo,'DejaVu Sans Mono',consolas,'Courier New',monospace\"></pre>\n"
      ],
      "text/plain": []
     },
     "metadata": {},
     "output_type": "display_data"
    },
    {
     "data": {
      "text/html": [
       "<pre style=\"white-space:pre;overflow-x:auto;line-height:normal;font-family:Menlo,'DejaVu Sans Mono',consolas,'Courier New',monospace\">\n",
       "</pre>\n"
      ],
      "text/plain": [
       "\n"
      ]
     },
     "metadata": {},
     "output_type": "display_data"
    }
   ],
   "source": [
    "def density_flow_of_generative_model(model):\n",
    "\n",
    "    model.eval()\n",
    "    x_range = torch.linspace(-4, 4, 100, device=model.device)\n",
    "    y_range = torch.linspace(-4, 4, 100, device=model.device)\n",
    "    xx, yy = torch.meshgrid(x_range, y_range)\n",
    "    z_grid = torch.cat([xx.reshape(-1, 1), yy.reshape(-1, 1)], 1)\n",
    "\n",
    "    indexs = torch.arange(0, z_grid.shape[0], device=model.device)\n",
    "    memory = 0.01\n",
    "\n",
    "    p_list = []\n",
    "    for t in track(range(100), description=\"Density Flow Training\"):\n",
    "        t_span = torch.linspace(0.01 * t, 1, 101 - t, device=model.device)\n",
    "        logp_list = []\n",
    "        for ii in torch.split(indexs, int(z_grid.shape[0] * memory)):\n",
    "            logp_ii = compute_likelihood(\n",
    "                model=model,\n",
    "                x=z_grid[ii],\n",
    "                t=t_span,\n",
    "                using_Hutchinson_trace_estimator=True,\n",
    "            )\n",
    "            logp_list.append(logp_ii.unsqueeze(0))\n",
    "        logp = torch.cat(logp_list, 1)\n",
    "        p = torch.exp(logp).reshape(100, 100)\n",
    "        p_list.append(p)\n",
    "\n",
    "    return p_list\n",
    "p_list = density_flow_of_generative_model(diffusion_model)"
   ]
  },
  {
   "cell_type": "code",
   "execution_count": 41,
   "metadata": {},
   "outputs": [
    {
     "data": {
      "text/html": [
       "<pre style=\"white-space:pre;overflow-x:auto;line-height:normal;font-family:Menlo,'DejaVu Sans Mono',consolas,'Courier New',monospace\"><span style=\"color: #7fbfbf; text-decoration-color: #7fbfbf\">[11:34:18] </span><span style=\"color: #000080; text-decoration-color: #000080\">INFO    </span> Animation.save using <span style=\"font-weight: bold\">&lt;</span><span style=\"color: #ff00ff; text-decoration-color: #ff00ff; font-weight: bold\">class</span><span style=\"color: #000000; text-decoration-color: #000000\"> </span><span style=\"color: #008000; text-decoration-color: #008000\">'matplotlib.animation.FFMpegWriter'</span><span style=\"font-weight: bold\">&gt;</span>              <a href=\"file:///opt/conda/lib/python3.10/site-packages/matplotlib/animation.py\" target=\"_blank\"><span style=\"color: #7f7f7f; text-decoration-color: #7f7f7f\">animation.py</span></a><span style=\"color: #7f7f7f; text-decoration-color: #7f7f7f\">:</span><a href=\"file:///opt/conda/lib/python3.10/site-packages/matplotlib/animation.py#1060\" target=\"_blank\"><span style=\"color: #7f7f7f; text-decoration-color: #7f7f7f\">1060</span></a>\n",
       "</pre>\n"
      ],
      "text/plain": [
       "\u001b[2;36m[11:34:18]\u001b[0m\u001b[2;36m \u001b[0m\u001b[34mINFO    \u001b[0m Animation.save using \u001b[1m<\u001b[0m\u001b[1;95mclass\u001b[0m\u001b[39m \u001b[0m\u001b[32m'matplotlib.animation.FFMpegWriter'\u001b[0m\u001b[1m>\u001b[0m              \u001b]8;id=198352;file:///opt/conda/lib/python3.10/site-packages/matplotlib/animation.py\u001b\\\u001b[2manimation.py\u001b[0m\u001b]8;;\u001b\\\u001b[2m:\u001b[0m\u001b]8;id=80104;file:///opt/conda/lib/python3.10/site-packages/matplotlib/animation.py#1060\u001b\\\u001b[2m1060\u001b[0m\u001b]8;;\u001b\\\n"
      ]
     },
     "metadata": {},
     "output_type": "display_data"
    },
    {
     "data": {
      "text/html": [
       "<pre style=\"white-space:pre;overflow-x:auto;line-height:normal;font-family:Menlo,'DejaVu Sans Mono',consolas,'Courier New',monospace\"><span style=\"color: #7fbfbf; text-decoration-color: #7fbfbf\">           </span><span style=\"color: #000080; text-decoration-color: #000080\">INFO    </span> MovieWriter._run: running command: ffmpeg -f rawvideo -vcodec rawvideo -s      <a href=\"file:///opt/conda/lib/python3.10/site-packages/matplotlib/animation.py\" target=\"_blank\"><span style=\"color: #7f7f7f; text-decoration-color: #7f7f7f\">animation.py</span></a><span style=\"color: #7f7f7f; text-decoration-color: #7f7f7f\">:</span><a href=\"file:///opt/conda/lib/python3.10/site-packages/matplotlib/animation.py#338\" target=\"_blank\"><span style=\"color: #7f7f7f; text-decoration-color: #7f7f7f\">338</span></a>\n",
       "<span style=\"color: #7fbfbf; text-decoration-color: #7fbfbf\">           </span>         70<span style=\"color: #008080; text-decoration-color: #008080; font-weight: bold\">0x600</span> -pix_fmt rgba -framerate <span style=\"color: #008080; text-decoration-color: #008080; font-weight: bold\">20</span> -loglevel error -i pipe: -vcodec h264      <span style=\"color: #7f7f7f; text-decoration-color: #7f7f7f\">                </span>\n",
       "<span style=\"color: #7fbfbf; text-decoration-color: #7fbfbf\">           </span>         -pix_fmt yuv420p -y .<span style=\"color: #800080; text-decoration-color: #800080\">/video-diffusion/</span><span style=\"color: #ff00ff; text-decoration-color: #ff00ff\">density_flow_diffuse.mp4</span>                 <span style=\"color: #7f7f7f; text-decoration-color: #7f7f7f\">                </span>\n",
       "</pre>\n"
      ],
      "text/plain": [
       "\u001b[2;36m          \u001b[0m\u001b[2;36m \u001b[0m\u001b[34mINFO    \u001b[0m MovieWriter._run: running command: ffmpeg -f rawvideo -vcodec rawvideo -s      \u001b]8;id=561233;file:///opt/conda/lib/python3.10/site-packages/matplotlib/animation.py\u001b\\\u001b[2manimation.py\u001b[0m\u001b]8;;\u001b\\\u001b[2m:\u001b[0m\u001b]8;id=842454;file:///opt/conda/lib/python3.10/site-packages/matplotlib/animation.py#338\u001b\\\u001b[2m338\u001b[0m\u001b]8;;\u001b\\\n",
       "\u001b[2;36m           \u001b[0m         70\u001b[1;36m0x600\u001b[0m -pix_fmt rgba -framerate \u001b[1;36m20\u001b[0m -loglevel error -i pipe: -vcodec h264      \u001b[2m                \u001b[0m\n",
       "\u001b[2;36m           \u001b[0m         -pix_fmt yuv420p -y .\u001b[35m/video-diffusion/\u001b[0m\u001b[95mdensity_flow_diffuse.mp4\u001b[0m                 \u001b[2m                \u001b[0m\n"
      ]
     },
     "metadata": {},
     "output_type": "display_data"
    },
    {
     "data": {
      "text/plain": [
       "<Figure size 640x480 with 0 Axes>"
      ]
     },
     "metadata": {},
     "output_type": "display_data"
    }
   ],
   "source": [
    "def render_density_flow_video(p_list, video_save_path, fps=20, dpi=100, generate_path=True):\n",
    "    if not os.path.exists(video_save_path):\n",
    "        os.makedirs(video_save_path)\n",
    "\n",
    "    fig, ax = plt.subplots(figsize=(7, 6))\n",
    "    plt.xlim([-4, 4])\n",
    "    plt.ylim([-4, 4])\n",
    "\n",
    "    ims = []\n",
    "    colors = np.linspace(0, 1, len(p_list))\n",
    "\n",
    "    # Assuming p_list contains 2D arrays of the same shape\n",
    "    x = np.linspace(-4, 4, p_list[0].shape[1])\n",
    "    y = np.linspace(-4, 4, p_list[0].shape[0])\n",
    "    X, Y = np.meshgrid(x, y)\n",
    "\n",
    "    cbar = None  # Initialize color bar\n",
    "\n",
    "    if generate_path:\n",
    "        enumerate_items = list(enumerate(p_list))[::-1]\n",
    "        enumerate_items = enumerate_items[:-1]\n",
    "        # enumerate_items = enumerate_items\n",
    "    else:\n",
    "        enumerate_items = list(enumerate(p_list))[1:]\n",
    "\n",
    "    for i, p in enumerate_items:\n",
    "        p_max = 0.2\n",
    "        p_min = 0.0\n",
    "\n",
    "        im = ax.pcolormesh(\n",
    "            Y, X, p.cpu().detach().numpy(),\n",
    "            cmap=\"viridis\",\n",
    "            vmin=p_min, vmax=p_max,\n",
    "            shading='auto'\n",
    "        )\n",
    "        title = ax.text(0.5, 1.05, f't={colors[i]:.2f}', size=plt.rcParams[\"axes.titlesize\"], ha=\"center\", transform=ax.transAxes)\n",
    "\n",
    "        # Remove the previous color bar if it exists\n",
    "        if cbar:\n",
    "            cbar.remove()\n",
    "\n",
    "        # Adding the colorbar inside the loop to update it each frame\n",
    "        cbar = fig.colorbar(im, ax=ax)\n",
    "        cbar.set_label('Density')\n",
    "\n",
    "        ims.append([im, title])\n",
    "\n",
    "    ani = animation.ArtistAnimation(fig, ims, interval=20/fps, blit=True)\n",
    "    ani.save(\n",
    "        os.path.join(video_save_path, f\"density_flow_diffuse.mp4\"),\n",
    "        fps=fps,\n",
    "        dpi=dpi,\n",
    "    )\n",
    "\n",
    "    # clean up\n",
    "    plt.close(fig)\n",
    "    plt.clf()\n",
    "render_density_flow_video(p_list=p_list, video_save_path=diffusion_model_config.parameter.video_save_path, generate_path=False)"
   ]
  }
 ],
 "metadata": {
  "kernelspec": {
   "display_name": "base",
   "language": "python",
   "name": "python3"
  },
  "language_info": {
   "codemirror_mode": {
    "name": "ipython",
    "version": 3
   },
   "file_extension": ".py",
   "mimetype": "text/x-python",
   "name": "python",
   "nbconvert_exporter": "python",
   "pygments_lexer": "ipython3",
   "version": "3.10.14"
  }
 },
 "nbformat": 4,
 "nbformat_minor": 2
}
